{
 "cells": [
  {
   "cell_type": "code",
   "execution_count": 20,
   "metadata": {},
   "outputs": [],
   "source": [
    "# Codes used for command prompt instagram downloader\n",
    "# instaloader profile username\n",
    "# instaloader –help\n",
    "# instaloader --no-videos --comments --geotags --no-metadata-json  --no-compress-json profile username\n",
    "# instaloader --no-videos --comments --geotags --no-metadata-json  --no-compress-json –login username profile\n",
    "# instaloader --no-videos --comments --geotags --no-metadata-json  --no-compress-json –login username  --password password profile"
   ]
  },
  {
   "cell_type": "markdown",
   "metadata": {},
   "source": [
    "![](cmdshot.png)\n",
    "![](instashot.jpg)\n"
   ]
  },
  {
   "cell_type": "code",
   "execution_count": null,
   "metadata": {},
   "outputs": [],
   "source": []
  }
 ],
 "metadata": {
  "kernelspec": {
   "display_name": "Python 3",
   "language": "python",
   "name": "python3"
  },
  "language_info": {
   "codemirror_mode": {
    "name": "ipython",
    "version": 3
   },
   "file_extension": ".py",
   "mimetype": "text/x-python",
   "name": "python",
   "nbconvert_exporter": "python",
   "pygments_lexer": "ipython3",
   "version": "3.8.5"
  }
 },
 "nbformat": 4,
 "nbformat_minor": 4
}
