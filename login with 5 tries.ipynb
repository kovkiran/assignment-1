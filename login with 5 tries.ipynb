{
 "cells": [
  {
   "cell_type": "code",
   "execution_count": 1,
   "metadata": {},
   "outputs": [
    {
     "name": "stdout",
     "output_type": "stream",
     "text": [
      "user name: india\n",
      "password: k\n",
      "wrong password enter again: k\n",
      "2 th try\n",
      "wrong password enter again: j\n",
      "3 th try\n",
      "wrong password enter again: jk\n",
      "4 th try\n",
      "wrong password enter again: k\n",
      "5 th try\n",
      "Account blocked,try after 24 hours\n"
     ]
    }
   ],
   "source": [
    "user = \"india\"\n",
    "pas = \"ind\"\n",
    "\n",
    "a = input(\"user name: \")\n",
    "b = input(\"password: \")\n",
    "i=1\n",
    "if user==a and pas==b:\n",
    "    print(\"you have logged in\")\n",
    "elif user != a:\n",
    "    print(\"wrong username\")\n",
    "elif pas!=b:\n",
    "    \n",
    "    while i<5:\n",
    "        b=input(\"wrong password enter again: \")\n",
    "        if b==pas:\n",
    "            print(\"logged in\")\n",
    "            break\n",
    "        i=i+1\n",
    "        print(i,\"th try\")\n",
    "        if i==5:\n",
    "            print(\"Account blocked,try after 24 hours\")\n",
    "    "
   ]
  },
  {
   "cell_type": "code",
   "execution_count": null,
   "metadata": {},
   "outputs": [],
   "source": []
  },
  {
   "cell_type": "code",
   "execution_count": null,
   "metadata": {},
   "outputs": [],
   "source": []
  },
  {
   "cell_type": "code",
   "execution_count": null,
   "metadata": {},
   "outputs": [],
   "source": []
  },
  {
   "cell_type": "code",
   "execution_count": null,
   "metadata": {},
   "outputs": [],
   "source": []
  }
 ],
 "metadata": {
  "kernelspec": {
   "display_name": "Python 3",
   "language": "python",
   "name": "python3"
  },
  "language_info": {
   "codemirror_mode": {
    "name": "ipython",
    "version": 3
   },
   "file_extension": ".py",
   "mimetype": "text/x-python",
   "name": "python",
   "nbconvert_exporter": "python",
   "pygments_lexer": "ipython3",
   "version": "3.8.5"
  }
 },
 "nbformat": 4,
 "nbformat_minor": 4
}
